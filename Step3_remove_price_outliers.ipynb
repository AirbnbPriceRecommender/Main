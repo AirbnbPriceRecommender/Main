{
 "cells": [
  {
   "cell_type": "markdown",
   "metadata": {},
   "source": [
    "# Step 3. Remove outliers based on the price"
   ]
  },
  {
   "cell_type": "markdown",
   "metadata": {},
   "source": [
    "The price value of the raw data has a very large range, as it is shown in the figure below. \n",
    "In this section we want to find and remove price outliers in order to be able to properly train our regressor."
   ]
  },
  {
   "cell_type": "code",
   "execution_count": 30,
   "metadata": {
    "collapsed": true
   },
   "outputs": [],
   "source": [
    "import pandas as pd\n",
    "import numpy as np\n",
    "import time\n",
    "%matplotlib inline\n",
    "\n",
    "import MAD_functions as mad\n",
    "import matplotlib\n",
    "import matplotlib.pyplot as plt\n",
    "from sklearn.cross_validation import train_test_split"
   ]
  },
  {
   "cell_type": "code",
   "execution_count": 31,
   "metadata": {
    "collapsed": false
   },
   "outputs": [],
   "source": [
    "data = pd.read_csv('raw/step2_output.csv',sep=\";\")"
   ]
  },
  {
   "cell_type": "code",
   "execution_count": 32,
   "metadata": {
    "collapsed": false
   },
   "outputs": [],
   "source": [
    "#reassign the index to have the surviving row correctly indexed (needed if one wants to drop other rows before the price analisis)\n",
    "data.index = range(data.shape[0])"
   ]
  },
  {
   "cell_type": "code",
   "execution_count": 33,
   "metadata": {
    "collapsed": false
   },
   "outputs": [
    {
     "data": {
      "image/png": "[encoded data removed]",
      "text/plain": [
       "<matplotlib.figure.Figure at 0xd2999e8>"
      ]
     },
     "metadata": {},
     "output_type": "display_data"
    }
   ],
   "source": [
    "fig1 = plt.figure(figsize=(5,4))\n",
    "ax = fig1.add_subplot(111)\n",
    "a=plt.semilogy(np.sort(data.loc[:,('price')].values),'purple', Linewidth=3)\n",
    "#b=plt.plot(np.sort(y_test),'k',Linewidth=3)\n",
    "#c=plt.plot(y_median,'--b',Linewidth=2, label='median')\n",
    "#d=plt.plot(y_mean,'--g',Linewidth=2, label='mean')\n",
    "font = {'family' : 'Arial',\n",
    "        'weight' : 'light',\n",
    "        'size'   : 16}\n",
    "\n",
    "ax.set_xlim(0-100, len(data.loc[:,('price')].values)+100)\n",
    "ax.set_ylim(0, max(data.loc[:,('price')].values))\n",
    "\n",
    "ax.set_xlabel('Increasing index of sorted prices',fontsize=16)\n",
    "ax.set_ylabel('Price in euros', fontsize=16)\n",
    "\n",
    "#ax.legend(frameon=False,loc=2,fontsize=14)\n",
    "\n",
    "plt.tick_params(\n",
    "    axis='x',          # changes apply to the x-axis\n",
    "    which='both',      # both major and minor ticks are affected\n",
    "    bottom='off',      # ticks along the bottom edge are off\n",
    "    top='off',         # ticks along the top edge are off\n",
    "    labelbottom='off') # labels along the bottom edge are off\n",
    "\n",
    "plt.title('Price- raw data',weight='bold')\n",
    "fig1.set_alpha(0) #transparent background\n",
    "ax.yaxis.grid(True)\n",
    "plt.draw()"
   ]
  },
  {
   "cell_type": "code",
   "execution_count": 34,
   "metadata": {
    "collapsed": true
   },
   "outputs": [],
   "source": [
    "fig1.savefig('raw_data_price.png',dpi=600)"
   ]
  },
  {
   "cell_type": "markdown",
   "metadata": {},
   "source": [
    "# Separating the three property types"
   ]
  },
  {
   "cell_type": "markdown",
   "metadata": {},
   "source": [
    "In order to remove the outliers in the price feature, we should conisder the fact that the apartments are divided into three different property types: entire apartment, private room or shared room. This means that we should separate the thress populations in order to apply any statistical analysis to find the outliers."
   ]
  },
  {
   "cell_type": "code",
   "execution_count": 35,
   "metadata": {
    "collapsed": false
   },
   "outputs": [],
   "source": [
    "#ler's get our boolean masks for the price:\n",
    "#here we retrieve the three columns of interest as boolean vectors\n",
    "entire_home=data.loc[:,('entire_home_apt')].values.astype(bool)\n",
    "private=data.loc[:,('private_room')].values.astype(bool)\n",
    "shared=data.loc[:,('shared_room')].values.astype(bool)"
   ]
  },
  {
   "cell_type": "code",
   "execution_count": 36,
   "metadata": {
    "collapsed": false
   },
   "outputs": [],
   "source": [
    "#here we use the boolean vectors to \"filter\" the price column and get three separate price vectors for the three categories\n",
    "population_entire=data.loc[:,('price')].values[entire_home]\n",
    "population_private=data.loc[:,('price')].values[private]\n",
    "population_shared=data.loc[:,('price')].values[shared]"
   ]
  },
  {
   "cell_type": "code",
   "execution_count": 37,
   "metadata": {
    "collapsed": false
   },
   "outputs": [],
   "source": [
    "#let's get the indexes\n",
    "index_entire=data.loc[:,('price')].index[entire_home]\n",
    "index_private=data.loc[:,('price')].index[private]\n",
    "index_shared=data.loc[:,('price')].index[shared]"
   ]
  },
  {
   "cell_type": "code",
   "execution_count": 59,
   "metadata": {
    "collapsed": false
   },
   "outputs": [
    {
     "data": {
      "image/png": "[encoded data removed]",
      "text/plain": [
       "<matplotlib.figure.Figure at 0x129e79b0>"
      ]
     },
     "metadata": {},
     "output_type": "display_data"
    }
   ],
   "source": [
    "#Let's look at the price\n",
    "binwidth=20\n",
    "f, (ax1, ax2, ax3) = plt.subplots(1, 3, sharey=True)\n",
    "\n",
    "ax1.hist(population_entire, bins=np.arange(min(population_entire),max(population_entire) + binwidth, binwidth), facecolor='blue')\n",
    "ax2.hist(population_private, bins=np.arange(min(population_private),max(population_private) + binwidth, binwidth),facecolor='purple')\n",
    "ax3.hist(population_shared, bins=np.arange(min(population_shared),max(population_shared)+ binwidth, binwidth), facecolor='cyan')\n",
    "\n",
    "ax1.set_title('entire apt')\n",
    "ax2.set_title('private room')\n",
    "ax3.set_title('shared room')\n",
    "ax1.set_xlim(0,1200)\n",
    "ax1.set_xticks([0, 300, 600, 900,1200])\n",
    "ax2.set_xlim(0,600)\n",
    "ax2.set_xticks([0, 300, 600])\n",
    "ax3.set_xlim(0,200)\n",
    "ax3.set_xticks([0, 50, 150, 200])\n",
    "\n",
    "ax1.set_ylabel('Num of apartments',fontsize=16)\n",
    "\n",
    "ax2.set_xlabel('Price in euros',fontsize=16)\n",
    "\n",
    "plt.yscale('log', nonposy='clip')\n",
    "plt.show()\n",
    "\n",
    "#data = data.drop(data[data.price >= 400].index)\n"
   ]
  },
  {
   "cell_type": "code",
   "execution_count": 39,
   "metadata": {
    "collapsed": false
   },
   "outputs": [
    {
     "name": "stdout",
     "output_type": "stream",
     "text": [
      "125.0 39.0 22.0\n",
      "(30.0, 45.0) (10.0, 13.0) (3.0, 13.0)\n"
     ]
    }
   ],
   "source": [
    "print np.median(population_entire), np.median(population_private), np.median(population_shared)\n",
    "print mad.doubleMAD(population_entire), mad.doubleMAD(population_private), mad.doubleMAD(population_shared)"
   ]
  },
  {
   "cell_type": "markdown",
   "metadata": {},
   "source": [
    "# Applying the filter based on median and MAD to find the outliers"
   ]
  },
  {
   "cell_type": "markdown",
   "metadata": {},
   "source": [
    "Now we calculate the MAD and use its value to define the the price limits to find and remove the outliers.\n",
    "In particular, since the distributions are strongly asymmetrical, we will take the asymmetry into account computing the MAD separately for the data above and below the median, thus obtaining a MADlow and a MADhigh value, so our criteria of selection of good data becomes:\n",
    "\n",
    "m-t x MADlow<x<m+t x MADhigh\n"
   ]
  },
  {
   "cell_type": "code",
   "execution_count": 40,
   "metadata": {
    "collapsed": true
   },
   "outputs": [],
   "source": [
    "thresh=8"
   ]
  },
  {
   "cell_type": "code",
   "execution_count": 41,
   "metadata": {
    "collapsed": false
   },
   "outputs": [],
   "source": [
    "#boolean maks for the good data we want to keep\n",
    "good_entire=mad.doubleMAD_mask(data.loc[:,('price')].values[entire_home],thresh)\n",
    "good_private=mad.doubleMAD_mask(data.loc[:,('price')].values[private],thresh)\n",
    "good_shared=mad.doubleMAD_mask(data.loc[:,('price')].values[shared],thresh)"
   ]
  },
  {
   "cell_type": "code",
   "execution_count": 60,
   "metadata": {
    "collapsed": false
   },
   "outputs": [
    {
     "name": "stdout",
     "output_type": "stream",
     "text": [
      "7661 6627 150\n",
      "7763 6706 154\n",
      "102 79 4\n"
     ]
    }
   ],
   "source": [
    "print np.sum(good_entire), np.sum(good_private), np.sum(good_shared)\n",
    "print population_entire.size, population_private.size, population_shared.size\n",
    "print population_entire.size-np.sum(good_entire), population_private.size-np.sum(good_private), population_shared.size-np.sum(good_shared)"
   ]
  },
  {
   "cell_type": "code",
   "execution_count": 57,
   "metadata": {
    "collapsed": false
   },
   "outputs": [
    {
     "data": {
      "image/png": "[encoded data removed]",
      "text/plain": [
       "<matplotlib.figure.Figure at 0xcf0bf60>"
      ]
     },
     "metadata": {},
     "output_type": "display_data"
    }
   ],
   "source": [
    "#let's look at what we will cut\n",
    "\n",
    "binwidth=20\n",
    "#f = plt.figure(figsize=(8,6))\n",
    "f,((ax1, ax2, ax3),(ax4,ax5,ax6))= plt.subplots(2, 3, sharey=True,figsize=(8,7))\n",
    "ax1.hist(population_entire, bins=np.arange(min(population_entire),max(population_entire) + binwidth, binwidth),facecolor='blue')\n",
    "ax2.hist(population_private, bins=np.arange(min(population_private),max(population_private) + binwidth, binwidth),facecolor='purple')\n",
    "ax3.hist(population_shared, bins=np.arange(min(population_shared),max(population_shared)+ binwidth, binwidth),facecolor='cyan')\n",
    "\n",
    "ax4.hist(population_entire[good_entire], bins=np.arange(min(population_entire),max(population_entire) + binwidth, binwidth),facecolor='blue')\n",
    "ax5.hist(population_private[good_private], bins=np.arange(min(population_private),max(population_private) + binwidth, binwidth),facecolor='purple')\n",
    "ax6.hist(population_shared[good_shared], bins=np.arange(min(population_shared),max(population_shared)+ binwidth, binwidth),facecolor='cyan')\n",
    "\n",
    "ax1.set_title('entire apt')\n",
    "ax2.set_title('private room')\n",
    "ax3.set_title('shared room')\n",
    "ax1.set_xlim(0,1200)\n",
    "ax1.set_xticks([0, 300, 600, 900,1200])\n",
    "ax2.set_xlim(0,600)\n",
    "ax2.set_xticks([0, 300, 600])\n",
    "ax3.set_xlim(0,200)\n",
    "ax3.set_xticks([0, 50, 150, 200])\n",
    "ax4.set_xlim(0,1200)\n",
    "ax4.set_xticks([0, 300, 600, 900,1200])\n",
    "ax5.set_xlim(0,600)\n",
    "ax5.set_xticks([0, 300, 600])\n",
    "ax6.set_xlim(0,200)\n",
    "ax6.set_xticks([0, 50, 150, 200])\n",
    "\n",
    "ax1.set_ylabel('Num of apartments',fontsize=16)\n",
    "ax4.set_ylabel('Num of apartments', fontsize=16)\n",
    "\n",
    "ax2.set_xlabel('Price in euros',fontsize=16)\n",
    "ax5.set_xlabel('Price in euros',fontsize=16)\n",
    "\n",
    "plt.yscale('log', nonposy='clip')\n",
    "plt.show()"
   ]
  },
  {
   "cell_type": "code",
   "execution_count": 58,
   "metadata": {
    "collapsed": true
   },
   "outputs": [],
   "source": [
    "f.savefig('outliers_price.png',dpi=600)"
   ]
  },
  {
   "cell_type": "markdown",
   "metadata": {},
   "source": [
    "# Joining the three categories and outliers dropping"
   ]
  },
  {
   "cell_type": "code",
   "execution_count": 44,
   "metadata": {
    "collapsed": true
   },
   "outputs": [],
   "source": [
    "#from the individual bolean masks let's get an array with all the indeces of the rows we want to drop\n",
    "\n",
    "outliers_entire= np.ones(len(good_entire),dtype=int)\n",
    "outliers_entire= (outliers_entire-good_entire.astype(int)).astype(bool)\n",
    "mask_entire=index_entire[outliers_entire]\n",
    "\n",
    "outliers_private= np.ones(len(good_private),dtype=int)\n",
    "outliers_private= (outliers_private-good_private.astype(int)).astype(bool)\n",
    "mask_private=index_private[outliers_private]\n",
    "\n",
    "outliers_shared= np.ones(len(good_shared),dtype=int)\n",
    "outliers_shared= (outliers_shared-good_shared.astype(int)).astype(bool)\n",
    "mask_shared=index_shared[outliers_shared]\n",
    "\n",
    "full_mask=np.append(mask_entire,mask_private)\n",
    "full_mask=np.append(full_mask,mask_shared)"
   ]
  },
  {
   "cell_type": "code",
   "execution_count": 45,
   "metadata": {
    "collapsed": false
   },
   "outputs": [],
   "source": [
    "full_mask=np.unique(full_mask)\n",
    "#print full_mask, full_mask.size"
   ]
  },
  {
   "cell_type": "code",
   "execution_count": 46,
   "metadata": {
    "collapsed": false
   },
   "outputs": [
    {
     "data": {
      "text/plain": [
       "(14438, 160)"
      ]
     },
     "execution_count": 46,
     "metadata": {},
     "output_type": "execute_result"
    }
   ],
   "source": [
    "#now apply the boolean mask using the indices\n",
    "for ind in full_mask:\n",
    "    data=data.drop(labels=ind, axis=0)\n",
    "    \n",
    "#data.drop(data.index[[ind, for ind in mask_entire]]) #this doesnt work but something similar, more pythonic than \n",
    "#the previous for should work...\n",
    "data.shape"
   ]
  },
  {
   "cell_type": "markdown",
   "metadata": {},
   "source": [
    "# Train-test splitting"
   ]
  },
  {
   "cell_type": "code",
   "execution_count": 47,
   "metadata": {
    "collapsed": false
   },
   "outputs": [
    {
     "data": {
      "text/plain": [
       "'Get 5 dataset to do cross validation\\n#prepare train and test groups and create two new dataframes\\nyfull = data.loc[:,\\'price\\'].copy()\\nxfull = data.copy()\\nxfull.drop(\\'price\\', axis=1, inplace=True,errors=\\'ignore\\')\\nrandom_seed=[1,42,3,121,17]\\ncounter=1\\nfor i in random_seed:\\n    x_train, x_test, y_train, y_test = train_test_split(xfull.values, yfull.values, test_size = .3, random_state = i)\\n    train=pd.DataFrame(x_train, columns=xfull.columns)\\n    train=train.join(pd.DataFrame(y_train,columns=[\\'price\\']))\\n    test=pd.DataFrame(x_test, columns=xfull.columns)\\n    test=test.join(pd.DataFrame(y_test,columns=[\\'price\\']))\\n    train.to_csv(\"raw/step3_output_train_\"+str(counter)+\".csv\", sep=\";\", index=False, header=True)\\n    test.to_csv(\"raw/step3_output_test_\"+str(counter)+\".csv\", sep=\";\", index=False, header=True)\\n    counter=counter+1'"
      ]
     },
     "execution_count": 47,
     "metadata": {},
     "output_type": "execute_result"
    }
   ],
   "source": [
    "'''Get 5 dataset to do cross validation\n",
    "#prepare train and test groups and create two new dataframes\n",
    "yfull = data.loc[:,'price'].copy()\n",
    "xfull = data.copy()\n",
    "xfull.drop('price', axis=1, inplace=True,errors='ignore')\n",
    "random_seed=[1,42,3,121,17]\n",
    "counter=1\n",
    "for i in random_seed:\n",
    "    x_train, x_test, y_train, y_test = train_test_split(xfull.values, yfull.values, test_size = .3, random_state = i)\n",
    "    train=pd.DataFrame(x_train, columns=xfull.columns)\n",
    "    train=train.join(pd.DataFrame(y_train,columns=['price']))\n",
    "    test=pd.DataFrame(x_test, columns=xfull.columns)\n",
    "    test=test.join(pd.DataFrame(y_test,columns=['price']))\n",
    "    train.to_csv(\"raw/step3_output_train_\"+str(counter)+\".csv\", sep=\";\", index=False, header=True)\n",
    "    test.to_csv(\"raw/step3_output_test_\"+str(counter)+\".csv\", sep=\";\", index=False, header=True)\n",
    "    counter=counter+1'''"
   ]
  },
  {
   "cell_type": "code",
   "execution_count": 48,
   "metadata": {
    "collapsed": true
   },
   "outputs": [],
   "source": [
    "yfull = data.loc[:,'price'].copy()\n",
    "xfull = data.copy()\n",
    "xfull.drop('price', axis=1, inplace=True,errors='ignore')\n",
    "x_train, x_test, y_train, y_test = train_test_split(xfull.values, yfull.values, test_size = .3, random_state = 1)\n",
    "train=pd.DataFrame(x_train, columns=xfull.columns)\n",
    "train=train.join(pd.DataFrame(y_train,columns=['price']))\n",
    "test=pd.DataFrame(x_test, columns=xfull.columns)\n",
    "test=test.join(pd.DataFrame(y_test,columns=['price']))\n",
    "\n",
    "train.to_csv(\"raw/step3_output_train.csv\", sep=\";\", index=False, header=True)\n",
    "test.to_csv(\"raw/step3_output_test.csv\", sep=\";\", index=False, header=True)\n",
    "\n",
    "#data.to_csv(\"raw/step3_output.csv\", sep=\";\", index=False, header=True)"
   ]
  }
 ],
 "metadata": {
  "kernelspec": {
   "display_name": "Python 2",
   "language": "python",
   "name": "python2"
  },
  "language_info": {
   "codemirror_mode": {
    "name": "ipython",
    "version": 2
   },
   "file_extension": ".py",
   "mimetype": "text/x-python",
   "name": "python",
   "nbconvert_exporter": "python",
   "pygments_lexer": "ipython2",
   "version": "2.7.12"
  }
 },
 "nbformat": 4,
 "nbformat_minor": 0
}
